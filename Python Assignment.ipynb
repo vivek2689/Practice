{
 "cells": [
  {
   "cell_type": "code",
   "execution_count": 1,
   "metadata": {},
   "outputs": [],
   "source": [
    "#Strings"
   ]
  },
  {
   "cell_type": "code",
   "execution_count": 3,
   "metadata": {},
   "outputs": [],
   "source": [
    "S = \"\"\"I am very keen in building up my career in Data Science, \n",
    "but not sure from where to start.\n",
    "If I search the web it throws me thousands of articles, \n",
    "few are relevant others make me confused, again I come around to the same page. \n",
    "Supervised has provided me a good platform to remove all such qualms which were wrangling in my mind\"\"\""
   ]
  },
  {
   "cell_type": "code",
   "execution_count": 4,
   "metadata": {},
   "outputs": [
    {
     "name": "stdout",
     "output_type": "stream",
     "text": [
      "The length of the above string is  330\n"
     ]
    }
   ],
   "source": [
    "print(\"The length of the above string is \" ,len(S))"
   ]
  },
  {
   "cell_type": "code",
   "execution_count": 5,
   "metadata": {},
   "outputs": [
    {
     "name": "stdout",
     "output_type": "stream",
     "text": [
      "The string in lower case looks like : i am very keen in building up my career in data science, \n",
      "but not sure from where to start.\n",
      "if i search the web it throws me thousands of articles, \n",
      "few are relevant others make me confused, again i come around to the same page. \n",
      "supervised has provided me a good platform to remove all such qualms which were wrangling in my mind\n"
     ]
    }
   ],
   "source": [
    "strlower = S.lower()\n",
    "print(\"The string in lower case looks like :\",strlower)"
   ]
  },
  {
   "cell_type": "code",
   "execution_count": 6,
   "metadata": {},
   "outputs": [
    {
     "name": "stdout",
     "output_type": "stream",
     "text": [
      "I am very keen in building up my career in Data Science, \n",
      "but not sure from where to start.\n",
      "If I search the web it throws me thousands of articles, \n",
      "few are relevant others make me confused, again I come around to the same page. \n",
      "Supervised has provided me a good platform to remove all such qualms which were wrangling in my mind\n"
     ]
    }
   ],
   "source": [
    "print(S)"
   ]
  },
  {
   "cell_type": "code",
   "execution_count": 9,
   "metadata": {},
   "outputs": [
    {
     "name": "stdout",
     "output_type": "stream",
     "text": [
      "I am very keen in building up my career in Data Science, \n",
      "but not sure from where to start \n",
      "If I search the web it throws me thousands of articles, \n",
      "few are relevant others make me confused, again I come around to the same page  \n",
      "Supervised has provided me a good platform to remove all such qualms which were wrangling in my mind\n"
     ]
    }
   ],
   "source": [
    "strwopunc = S.replace('.',' ')\n",
    "print(strwopunc)"
   ]
  },
  {
   "cell_type": "code",
   "execution_count": 10,
   "metadata": {},
   "outputs": [
    {
     "name": "stdout",
     "output_type": "stream",
     "text": [
      "I am very keen in building up my career in Data Science  \n",
      "but not sure from where to start \n",
      "If I search the web it throws me thousands of articles  \n",
      "few are relevant others make me confused  again I come around to the same page  \n",
      "Supervised has provided me a good platform to remove all such qualms which were wrangling in my mind\n"
     ]
    }
   ],
   "source": [
    "strwopunc2 = strwopunc.replace(',',' ')\n",
    "print(strwopunc2)"
   ]
  },
  {
   "cell_type": "code",
   "execution_count": 16,
   "metadata": {},
   "outputs": [
    {
     "name": "stdout",
     "output_type": "stream",
     "text": [
      "I am very keen in building up my career in Data Science \n",
      "but not sure from where to start\n",
      "If I search the web it throws me thousands of articles \n",
      "few are relevant others make me confused again I come around to the same page \n",
      "Supervised has provided me a good platform to remove all such qualms which were wrangling in my mind\n"
     ]
    }
   ],
   "source": [
    "punctuations = '.,'\n",
    "for i in S:\n",
    "    if i in punctuations:\n",
    "        S = S.replace(i,'')\n",
    "print(S)   "
   ]
  },
  {
   "cell_type": "code",
   "execution_count": 19,
   "metadata": {},
   "outputs": [
    {
     "name": "stdout",
     "output_type": "stream",
     "text": [
      "The extracted word's index is : 43\n"
     ]
    }
   ],
   "source": [
    "StrDS = S.find('Data Science')\n",
    "print('The extracted word\\'s index is :', StrDS)"
   ]
  },
  {
   "cell_type": "code",
   "execution_count": 21,
   "metadata": {},
   "outputs": [
    {
     "name": "stdout",
     "output_type": "stream",
     "text": [
      "The extracted word is Data Science\n"
     ]
    }
   ],
   "source": [
    "print ('The extracted word is',S[43:55])"
   ]
  },
  {
   "cell_type": "code",
   "execution_count": 23,
   "metadata": {},
   "outputs": [
    {
     "name": "stdout",
     "output_type": "stream",
     "text": [
      "['I', 'am', 'very', 'keen', 'in', 'building', 'up', 'my', 'career', 'in', 'Data', 'Science', 'but', 'not', 'sure', 'from', 'where', 'to', 'start', 'If', 'I', 'search', 'the', 'web', 'it', 'throws', 'me', 'thousands', 'of', 'articles', 'few', 'are', 'relevant', 'others', 'make', 'me', 'confused', 'again', 'I', 'come', 'around', 'to', 'the', 'same', 'page', 'Supervised', 'has', 'provided', 'me', 'a', 'good', 'platform', 'to', 'remove', 'all', 'such', 'qualms', 'which', 'were', 'wrangling', 'in', 'my', 'mind']\n"
     ]
    }
   ],
   "source": [
    "Splitstring  =  S.split()\n",
    "print(Splitstring)"
   ]
  },
  {
   "cell_type": "code",
   "execution_count": 24,
   "metadata": {},
   "outputs": [],
   "source": [
    "#Frequency of words in string"
   ]
  },
  {
   "cell_type": "code",
   "execution_count": 33,
   "metadata": {},
   "outputs": [
    {
     "name": "stdout",
     "output_type": "stream",
     "text": [
      "The count of page is 1\n",
      "The count of make is 1\n",
      "The count of again is 1\n",
      "The count of web is 1\n",
      "The count of sure is 1\n",
      "The count of start is 1\n",
      "The count of it is 1\n",
      "The count of remove is 1\n",
      "The count of mind is 1\n",
      "The count of of is 1\n",
      "The count of qualms is 1\n",
      "The count of same is 1\n",
      "The count of in is 3\n",
      "The count of where is 1\n",
      "The count of up is 1\n",
      "The count of around is 1\n",
      "The count of were is 1\n",
      "The count of If is 1\n",
      "The count of search is 1\n",
      "The count of are is 1\n",
      "The count of very is 1\n",
      "The count of relevant is 1\n",
      "The count of not is 1\n",
      "The count of platform is 1\n",
      "The count of provided is 1\n",
      "The count of from is 1\n",
      "The count of others is 1\n",
      "The count of Data is 1\n",
      "The count of me is 3\n",
      "The count of wrangling is 1\n",
      "The count of Supervised is 1\n",
      "The count of good is 1\n",
      "The count of has is 1\n",
      "The count of the is 2\n",
      "The count of throws is 1\n",
      "The count of to is 3\n",
      "The count of am is 1\n",
      "The count of keen is 1\n",
      "The count of thousands is 1\n",
      "The count of few is 1\n",
      "The count of articles is 1\n",
      "The count of building is 1\n",
      "The count of such is 1\n",
      "The count of Science is 1\n",
      "The count of but is 1\n",
      "The count of which is 1\n",
      "The count of come is 1\n",
      "The count of a is 1\n",
      "The count of all is 1\n",
      "The count of I is 3\n",
      "The count of confused is 1\n",
      "The count of my is 2\n",
      "The count of career is 1\n"
     ]
    }
   ],
   "source": [
    "uniquewrds = set(Splitstring)\n",
    "for i in uniquewrds:\n",
    "    print(\"The count of\",i, \"is\" ,Splitstring.count(i))"
   ]
  },
  {
   "cell_type": "code",
   "execution_count": 38,
   "metadata": {},
   "outputs": [
    {
     "name": "stdout",
     "output_type": "stream",
     "text": [
      "I 3\n",
      "in 3\n",
      "my 2\n",
      "in 3\n",
      "to 3\n",
      "I 3\n",
      "the 2\n",
      "me 3\n",
      "me 3\n",
      "I 3\n",
      "to 3\n",
      "the 2\n",
      "me 3\n",
      "to 3\n",
      "in 3\n",
      "my 2\n"
     ]
    }
   ],
   "source": [
    "for x in Splitstring:\n",
    "    if Splitstring.count(x)>=2:\n",
    "        print(x,Splitstring.count(x))\n",
    "\n",
    "\n"
   ]
  },
  {
   "cell_type": "code",
   "execution_count": 39,
   "metadata": {},
   "outputs": [],
   "source": [
    "#Changing Supervised to Unsupervised"
   ]
  },
  {
   "cell_type": "code",
   "execution_count": 40,
   "metadata": {},
   "outputs": [
    {
     "name": "stdout",
     "output_type": "stream",
     "text": [
      "I am very keen in building up my career in Data Science \n",
      "but not sure from where to start\n",
      "If I search the web it throws me thousands of articles \n",
      "few are relevant others make me confused again I come around to the same page \n",
      "Unsupervised has provided me a good platform to remove all such qualms which were wrangling in my mind\n"
     ]
    }
   ],
   "source": [
    "Sreplace = S.replace('Supervised','Unsupervised')\n",
    "print(Sreplace)"
   ]
  },
  {
   "cell_type": "code",
   "execution_count": 43,
   "metadata": {},
   "outputs": [
    {
     "name": "stdout",
     "output_type": "stream",
     "text": [
      "The string after Split is I.am.very.keen.in.building.up.my.career.in.Data.Science.but.not.sure.from.where.to.start.If.I.search.the.web.it.throws.me.thousands.of.articles.few.are.relevant.others.make.me.confused.again.I.come.around.to.the.same.page.Supervised.has.provided.me.a.good.platform.to.remove.all.such.qualms.which.were.wrangling.in.my.mind\n"
     ]
    }
   ],
   "source": [
    "#Split with a dot operation\n",
    "SSplit = '.'.join(S.split())\n",
    "print(\"The string after Split is\" ,SSplit)"
   ]
  },
  {
   "cell_type": "code",
   "execution_count": 49,
   "metadata": {},
   "outputs": [
    {
     "name": "stdout",
     "output_type": "stream",
     "text": [
      "Science\n",
      "sure\n",
      "where\n",
      "the\n",
      "me\n",
      "are\n",
      "make\n",
      "me\n",
      "come\n",
      "the\n",
      "same\n",
      "page\n",
      "me\n",
      "remove\n",
      "were\n"
     ]
    }
   ],
   "source": [
    "#words ending with 'e'\n",
    "for x in Splitstring:\n",
    "    if x.endswith('e'):\n",
    "        print(x)\n"
   ]
  },
  {
   "cell_type": "code",
   "execution_count": 51,
   "metadata": {},
   "outputs": [
    {
     "name": "stdout",
     "output_type": "stream",
     "text": [
      "22\n"
     ]
    }
   ],
   "source": [
    "C = S.count('a')\n",
    "print(C)"
   ]
  },
  {
   "cell_type": "markdown",
   "metadata": {},
   "source": [
    "# Dictionaries"
   ]
  },
  {
   "cell_type": "code",
   "execution_count": 54,
   "metadata": {},
   "outputs": [],
   "source": [
    "#250g of apple, 500g of sugar, 2.5 kg of rice, 2.5 litres of milk and finally 1 dozen of egg.\n",
    "Dict_groceries = {'apple':250,'sugar':500,'rice':2.5,'milk':2.5,'eggs':12}"
   ]
  },
  {
   "cell_type": "code",
   "execution_count": 61,
   "metadata": {},
   "outputs": [
    {
     "data": {
      "text/plain": [
       "{'apple': 250, 'sugar': 500, 'rice': 2.5, 'milk': 2.5, 'eggs': 12, 'atta': 1}"
      ]
     },
     "execution_count": 61,
     "metadata": {},
     "output_type": "execute_result"
    }
   ],
   "source": [
    "Dict_groceries.update({'atta':1})\n",
    "Dict_groceries"
   ]
  },
  {
   "cell_type": "code",
   "execution_count": 63,
   "metadata": {},
   "outputs": [
    {
     "data": {
      "text/plain": [
       "{'apple': 250, 'sugar': 500, 'rice': 1, 'milk': 2.5, 'eggs': 12, 'atta': 1}"
      ]
     },
     "execution_count": 63,
     "metadata": {},
     "output_type": "execute_result"
    }
   ],
   "source": [
    "Dict_groceries['rice'] = 1\n",
    "Dict_groceries"
   ]
  },
  {
   "cell_type": "code",
   "execution_count": 67,
   "metadata": {},
   "outputs": [
    {
     "name": "stdout",
     "output_type": "stream",
     "text": [
      "The value for the Key apple is 250\n",
      "The value for the Key sugar is 500\n",
      "The value for the Key rice is 1\n",
      "The value for the Key milk is 2.5\n",
      "The value for the Key eggs is 12\n",
      "The value for the Key atta is 1\n"
     ]
    }
   ],
   "source": [
    "for k,v in Dict_groceries.items():\n",
    "    print('The value for the Key' , k,'is', v)"
   ]
  },
  {
   "cell_type": "code",
   "execution_count": 69,
   "metadata": {},
   "outputs": [],
   "source": [
    "#the cost of 1 kg apple is Rs.220, 1 kg of sugar is Rs.43, 1 Kg of rice is Rs. 45,\n",
    "#1 litre of milk is Rs.30 and 1 dozen of egg is Rs. 60."
   ]
  },
  {
   "cell_type": "code",
   "execution_count": 72,
   "metadata": {},
   "outputs": [
    {
     "name": "stdout",
     "output_type": "stream",
     "text": [
      "{'apple': 220, 'sugar': 43, 'rice': 45, 'milk': 30, 'eggs': 60}\n",
      "{'apple': 250, 'sugar': 500, 'rice': 1, 'milk': 2.5, 'eggs': 12, 'atta': 1}\n"
     ]
    }
   ],
   "source": [
    "Dict_price = {'apple':220,'sugar':43,'rice':45,'milk':30,'eggs':60}\n",
    "print(Dict_price)\n",
    "print(Dict_groceries)"
   ]
  },
  {
   "cell_type": "code",
   "execution_count": 73,
   "metadata": {},
   "outputs": [],
   "source": [
    "Dict_Final = {'apple':55,'sugar':21.5,'rice':45,'milk':75,'eggs':60}"
   ]
  },
  {
   "cell_type": "code",
   "execution_count": 84,
   "metadata": {},
   "outputs": [
    {
     "name": "stdout",
     "output_type": "stream",
     "text": [
      "256.5\n"
     ]
    }
   ],
   "source": [
    "print(sum(Dict_Final.values()))"
   ]
  },
  {
   "cell_type": "code",
   "execution_count": 77,
   "metadata": {},
   "outputs": [],
   "source": [
    "List_final = list(Dict_Final.values())"
   ]
  },
  {
   "cell_type": "code",
   "execution_count": 78,
   "metadata": {},
   "outputs": [
    {
     "data": {
      "text/plain": [
       "[55, 21.5, 45, 75, 60]"
      ]
     },
     "execution_count": 78,
     "metadata": {},
     "output_type": "execute_result"
    }
   ],
   "source": [
    "List_final"
   ]
  },
  {
   "cell_type": "code",
   "execution_count": 83,
   "metadata": {},
   "outputs": [
    {
     "name": "stdout",
     "output_type": "stream",
     "text": [
      "256.5\n"
     ]
    }
   ],
   "source": [
    "Total_bill = sum(List_final)\n",
    "print(Total_bill)"
   ]
  },
  {
   "cell_type": "code",
   "execution_count": 149,
   "metadata": {},
   "outputs": [
    {
     "name": "stdout",
     "output_type": "stream",
     "text": [
      "['Amazon', 'Facebook', 'HiSilicon', 'Google', 'Apple', 'Microsoft', 'Sensetime']\n"
     ]
    }
   ],
   "source": [
    "Companies = ['Amazon','Facebook','HiSilicon','Google','Apple','Microsoft','Sensetime']\n",
    "print(Companies)"
   ]
  },
  {
   "cell_type": "code",
   "execution_count": 114,
   "metadata": {},
   "outputs": [],
   "source": [
    "Companies.sort()"
   ]
  },
  {
   "cell_type": "code",
   "execution_count": 115,
   "metadata": {},
   "outputs": [
    {
     "name": "stdout",
     "output_type": "stream",
     "text": [
      "['Amazon', 'Apple', 'Facebook', 'Google', 'HiSilicon', 'Microsoft', 'Sensetime']\n"
     ]
    }
   ],
   "source": [
    "print(Companies)"
   ]
  },
  {
   "cell_type": "code",
   "execution_count": 151,
   "metadata": {},
   "outputs": [
    {
     "name": "stdout",
     "output_type": "stream",
     "text": [
      "['Amazon', 'Facebook', 'HiSilicon', 'Google', 'Apple', 'Microsoft', 'Sensetime', 'Nvidia', 'OpenAI', 'Qualcomm', 'Reliance']\n"
     ]
    }
   ],
   "source": [
    "#Adding to the list\n",
    "Companies.extend(['Nvidia','OpenAI','Qualcomm','Reliance'])\n",
    "print(Companies)"
   ]
  },
  {
   "cell_type": "code",
   "execution_count": 152,
   "metadata": {},
   "outputs": [
    {
     "name": "stdout",
     "output_type": "stream",
     "text": [
      "amazon\n",
      "facebook\n",
      "hisilicon\n",
      "google\n",
      "apple\n",
      "microsoft\n",
      "sensetime\n",
      "nvidia\n",
      "openai\n",
      "qualcomm\n",
      "reliance\n"
     ]
    },
    {
     "data": {
      "text/plain": [
       "[None, None, None, None, None, None, None, None, None, None, None]"
      ]
     },
     "execution_count": 152,
     "metadata": {},
     "output_type": "execute_result"
    }
   ],
   "source": [
    "Lowerlist = [print(i.lower()) for i in Companies]\n",
    "list(print(i.lower()) for i in Companies)"
   ]
  },
  {
   "cell_type": "code",
   "execution_count": 154,
   "metadata": {},
   "outputs": [],
   "source": [
    "Lowerlist =[]"
   ]
  },
  {
   "cell_type": "code",
   "execution_count": 155,
   "metadata": {},
   "outputs": [
    {
     "data": {
      "text/plain": [
       "list"
      ]
     },
     "execution_count": 155,
     "metadata": {},
     "output_type": "execute_result"
    }
   ],
   "source": [
    "type(Lowerlist)"
   ]
  },
  {
   "cell_type": "code",
   "execution_count": 161,
   "metadata": {},
   "outputs": [
    {
     "name": "stdout",
     "output_type": "stream",
     "text": [
      "amazon\n",
      "facebook\n",
      "hisilicon\n",
      "google\n",
      "apple\n",
      "microsoft\n",
      "sensetime\n",
      "nvidia\n",
      "openai\n",
      "qualcomm\n"
     ]
    },
    {
     "data": {
      "text/plain": [
       "[None, None, None, None, None, None, None, None, None, None]"
      ]
     },
     "execution_count": 161,
     "metadata": {},
     "output_type": "execute_result"
    }
   ],
   "source": [
    "Lowerlist = [print(i.lower()) for i in Companies]\n",
    "Lowerlist"
   ]
  },
  {
   "cell_type": "code",
   "execution_count": 157,
   "metadata": {},
   "outputs": [
    {
     "data": {
      "text/plain": [
       "list"
      ]
     },
     "execution_count": 157,
     "metadata": {},
     "output_type": "execute_result"
    }
   ],
   "source": [
    "type(Lowerlist)"
   ]
  },
  {
   "cell_type": "code",
   "execution_count": 159,
   "metadata": {},
   "outputs": [],
   "source": [
    "Companies.remove('Reliance')"
   ]
  },
  {
   "cell_type": "code",
   "execution_count": 160,
   "metadata": {},
   "outputs": [
    {
     "data": {
      "text/plain": [
       "['Amazon',\n",
       " 'Facebook',\n",
       " 'HiSilicon',\n",
       " 'Google',\n",
       " 'Apple',\n",
       " 'Microsoft',\n",
       " 'Sensetime',\n",
       " 'Nvidia',\n",
       " 'OpenAI',\n",
       " 'Qualcomm']"
      ]
     },
     "execution_count": 160,
     "metadata": {},
     "output_type": "execute_result"
    }
   ],
   "source": [
    "Companies"
   ]
  },
  {
   "cell_type": "code",
   "execution_count": 163,
   "metadata": {},
   "outputs": [
    {
     "name": "stdout",
     "output_type": "stream",
     "text": [
      "Extracting companies from a list using index : ['Facebook', 'Google', 'Microsoft']\n"
     ]
    }
   ],
   "source": [
    "print('Extracting companies from a list using index :',Companies[1:6:2])"
   ]
  },
  {
   "cell_type": "markdown",
   "metadata": {},
   "source": [
    "# TUPLES"
   ]
  },
  {
   "cell_type": "code",
   "execution_count": 165,
   "metadata": {},
   "outputs": [
    {
     "name": "stdout",
     "output_type": "stream",
     "text": [
      "(('apple', 55), ('sugar', 21.5), ('rice', 45), ('milk', 75), ('eggs', 60))\n"
     ]
    }
   ],
   "source": [
    "Tuple_price = (('apple',55),('sugar',21.5),('rice',45),('milk',75),('eggs',60))\n",
    "print(Tuple_price)"
   ]
  },
  {
   "cell_type": "code",
   "execution_count": 166,
   "metadata": {},
   "outputs": [
    {
     "data": {
      "text/plain": [
       "tuple"
      ]
     },
     "execution_count": 166,
     "metadata": {},
     "output_type": "execute_result"
    }
   ],
   "source": [
    "type(Tuple_price)"
   ]
  },
  {
   "cell_type": "code",
   "execution_count": 168,
   "metadata": {},
   "outputs": [
    {
     "data": {
      "text/plain": [
       "('sugar', 21.5)"
      ]
     },
     "execution_count": 168,
     "metadata": {},
     "output_type": "execute_result"
    }
   ],
   "source": [
    "max(Tuple_price)"
   ]
  },
  {
   "cell_type": "code",
   "execution_count": 169,
   "metadata": {},
   "outputs": [
    {
     "name": "stdout",
     "output_type": "stream",
     "text": [
      "('apple', 55)\n"
     ]
    }
   ],
   "source": [
    "print(Tuple_price[0])"
   ]
  },
  {
   "cell_type": "code",
   "execution_count": 185,
   "metadata": {},
   "outputs": [
    {
     "name": "stdout",
     "output_type": "stream",
     "text": [
      "21.5\n"
     ]
    }
   ],
   "source": [
    "print(max(Tuple_price)[1])"
   ]
  },
  {
   "cell_type": "code",
   "execution_count": 245,
   "metadata": {},
   "outputs": [
    {
     "name": "stdout",
     "output_type": "stream",
     "text": [
      "[55, 21.5, 45, 75, 60]\n",
      "The max price of the item is : 75\n",
      "The min price of the item is : 21.5\n"
     ]
    }
   ],
   "source": [
    "Z=[]\n",
    "for item in Tuple_price:\n",
    "    for y in item:\n",
    "        if type(y)!= str:\n",
    "            Z.append(y)\n",
    "print(Z)\n",
    "print('The max price of the item is :',max(Z))\n",
    "print('The min price of the item is :',min(Z))\n",
    "            \n",
    "            \n",
    "            "
   ]
  },
  {
   "cell_type": "code",
   "execution_count": 231,
   "metadata": {},
   "outputs": [
    {
     "data": {
      "text/plain": [
       "list"
      ]
     },
     "execution_count": 231,
     "metadata": {},
     "output_type": "execute_result"
    }
   ],
   "source": [
    "Companies = ['Amazon','Facebook','HiSilicon','Google','Apple','Microsoft','Sensetime']\n",
    "type(Companies)"
   ]
  },
  {
   "cell_type": "code",
   "execution_count": 233,
   "metadata": {},
   "outputs": [
    {
     "name": "stdout",
     "output_type": "stream",
     "text": [
      "COnverting a list to Tuple :\n",
      "  ('Amazon', 'Facebook', 'HiSilicon', 'Google', 'Apple', 'Microsoft', 'Sensetime')\n"
     ]
    }
   ],
   "source": [
    "print('COnverting a list to Tuple :\\n ',tuple(Companies))"
   ]
  },
  {
   "cell_type": "code",
   "execution_count": 237,
   "metadata": {},
   "outputs": [],
   "source": [
    "Company_new =Companies.append('HCL')"
   ]
  },
  {
   "cell_type": "code",
   "execution_count": 241,
   "metadata": {},
   "outputs": [
    {
     "data": {
      "text/plain": [
       "9"
      ]
     },
     "execution_count": 241,
     "metadata": {},
     "output_type": "execute_result"
    }
   ],
   "source": [
    "len(Companies)"
   ]
  },
  {
   "cell_type": "code",
   "execution_count": 244,
   "metadata": {},
   "outputs": [
    {
     "data": {
      "text/plain": [
       "10"
      ]
     },
     "execution_count": 244,
     "metadata": {},
     "output_type": "execute_result"
    }
   ],
   "source": [
    "len(tuple(Companies) +('infosys',))"
   ]
  },
  {
   "cell_type": "code",
   "execution_count": null,
   "metadata": {},
   "outputs": [],
   "source": []
  }
 ],
 "metadata": {
  "kernelspec": {
   "display_name": "Python 3",
   "language": "python",
   "name": "python3"
  },
  "language_info": {
   "codemirror_mode": {
    "name": "ipython",
    "version": 3
   },
   "file_extension": ".py",
   "mimetype": "text/x-python",
   "name": "python",
   "nbconvert_exporter": "python",
   "pygments_lexer": "ipython3",
   "version": "3.7.3"
  }
 },
 "nbformat": 4,
 "nbformat_minor": 2
}
