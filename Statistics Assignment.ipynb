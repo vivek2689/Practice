{
 "cells": [
  {
   "cell_type": "code",
   "execution_count": 1,
   "metadata": {},
   "outputs": [],
   "source": [
    "import numpy as np"
   ]
  },
  {
   "cell_type": "code",
   "execution_count": 2,
   "metadata": {},
   "outputs": [],
   "source": [
    "a =[9, 7, 11, 13, 2, 4, 5, 5]"
   ]
  },
  {
   "cell_type": "code",
   "execution_count": 3,
   "metadata": {},
   "outputs": [
    {
     "name": "stdout",
     "output_type": "stream",
     "text": [
      "Mean is : 7.0\n"
     ]
    }
   ],
   "source": [
    "print('Mean is :',np.mean(a))"
   ]
  },
  {
   "cell_type": "code",
   "execution_count": 4,
   "metadata": {},
   "outputs": [],
   "source": [
    "b=[2.2, 10.2, 14.7, 5.9, 4.9, 11.1, 10.5]"
   ]
  },
  {
   "cell_type": "code",
   "execution_count": 5,
   "metadata": {},
   "outputs": [
    {
     "name": "stdout",
     "output_type": "stream",
     "text": [
      "Mean is : 8.5\n"
     ]
    }
   ],
   "source": [
    "print('Mean is :',np.mean(b))"
   ]
  },
  {
   "cell_type": "code",
   "execution_count": 6,
   "metadata": {},
   "outputs": [],
   "source": [
    "c = [11/4, 21/2, 51/2, 31/4, 21/2]"
   ]
  },
  {
   "cell_type": "code",
   "execution_count": 7,
   "metadata": {},
   "outputs": [
    {
     "name": "stdout",
     "output_type": "stream",
     "text": [
      "Mean is : 11.4\n"
     ]
    }
   ],
   "source": [
    "print('Mean is :',np.mean(c))"
   ]
  },
  {
   "cell_type": "code",
   "execution_count": 8,
   "metadata": {},
   "outputs": [],
   "source": [
    "#Find the mean of first 10 Fibonacci numbers (Use a for loop to create 10 Fibonacci series)"
   ]
  },
  {
   "cell_type": "code",
   "execution_count": 9,
   "metadata": {},
   "outputs": [
    {
     "name": "stdout",
     "output_type": "stream",
     "text": [
      "[<generator object <genexpr> at 0x0000018125B0C7C8>]\n"
     ]
    }
   ],
   "source": [
    "Fibonacci_seq = [(sum(x,x+1) for x in range(10))]\n",
    "print(Fibonacci_seq)"
   ]
  },
  {
   "cell_type": "code",
   "execution_count": 24,
   "metadata": {},
   "outputs": [
    {
     "name": "stdout",
     "output_type": "stream",
     "text": [
      "[0, 1, 1, 2, 3, 5, 8, 13, 21, 34, 55, 89]\n"
     ]
    }
   ],
   "source": [
    "Z= []\n",
    "Z.append(0)\n",
    "Z.append(1)\n",
    "len(Z)\n",
    "for i in range(10):\n",
    "    x=np.add(Z[i],Z[i+1])\n",
    "    Z.append(x)\n",
    "print(Z)       "
   ]
  },
  {
   "cell_type": "code",
   "execution_count": 25,
   "metadata": {},
   "outputs": [
    {
     "name": "stdout",
     "output_type": "stream",
     "text": [
      "The mean for the above Fibonacci numbers are : 19.333333333333332\n"
     ]
    }
   ],
   "source": [
    "#Mean for the above Fibonacci numbers\n",
    "print(\"The mean for the above Fibonacci numbers are :\",np.mean(Z))"
   ]
  },
  {
   "cell_type": "code",
   "execution_count": 28,
   "metadata": {},
   "outputs": [
    {
     "name": "stdout",
     "output_type": "stream",
     "text": [
      "Mean of the prime numbers is : 5.6\n",
      "Median of the prime numbers is : 5.0\n"
     ]
    }
   ],
   "source": [
    "X = [2,3,5,7,11]\n",
    "print(\"Mean of the prime numbers is :\",np.mean(X))\n",
    "print(\"Median of the prime numbers is :\",np.median(X))"
   ]
  },
  {
   "cell_type": "code",
   "execution_count": null,
   "metadata": {},
   "outputs": [],
   "source": []
  }
 ],
 "metadata": {
  "kernelspec": {
   "display_name": "Python 3",
   "language": "python",
   "name": "python3"
  },
  "language_info": {
   "codemirror_mode": {
    "name": "ipython",
    "version": 3
   },
   "file_extension": ".py",
   "mimetype": "text/x-python",
   "name": "python",
   "nbconvert_exporter": "python",
   "pygments_lexer": "ipython3",
   "version": "3.7.3"
  }
 },
 "nbformat": 4,
 "nbformat_minor": 2
}
