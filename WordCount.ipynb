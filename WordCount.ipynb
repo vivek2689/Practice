{
 "cells": [
  {
   "cell_type": "markdown",
   "metadata": {},
   "source": []
  },
  {
   "cell_type": "code",
   "execution_count": null,
   "metadata": {},
   "outputs": [],
   "source": [
    "# wordcount_file = \"C:\\python\\word_cloud\\word_cloud\\98-0.txt\"\n",
    "with open(wordcount_file,'r',encoding =\"utf-8\") as f_name:\n",
    "    for line in f_name:\n",
    "        num_words = line.split(' ')\n",
    "      \n",
    "        print(num_words)\n",
    "    "
   ]
  },
  {
   "cell_type": "code",
   "execution_count": 13,
   "metadata": {},
   "outputs": [
    {
     "name": "stdout",
     "output_type": "stream",
     "text": [
      "['Hi', 'This', 'is', 'Vivek']\n"
     ]
    }
   ],
   "source": [
    "data = 'Hi This is Vivek'\n",
    "J = data.split(' ')\n",
    "print(J)"
   ]
  },
  {
   "cell_type": "code",
   "execution_count": null,
   "metadata": {},
   "outputs": [],
   "source": []
  }
 ],
 "metadata": {
  "kernelspec": {
   "display_name": "Python 3",
   "language": "python",
   "name": "python3"
  },
  "language_info": {
   "codemirror_mode": {
    "name": "ipython",
    "version": 3
   },
   "file_extension": ".py",
   "mimetype": "text/x-python",
   "name": "python",
   "nbconvert_exporter": "python",
   "pygments_lexer": "ipython3",
   "version": "3.7.3"
  }
 },
 "nbformat": 4,
 "nbformat_minor": 2
}
